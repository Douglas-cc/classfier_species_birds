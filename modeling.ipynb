{
 "cells": [
  {
   "cell_type": "markdown",
   "metadata": {},
   "source": [
    "# libs"
   ]
  },
  {
   "cell_type": "code",
   "execution_count": 109,
   "metadata": {},
   "outputs": [],
   "source": [
    "import warnings\n",
    "warnings.filterwarnings(\"ignore\")\n",
    "\n",
    "import numpy as np \n",
    "import pandas as pd\n",
    "from collections import defaultdict\n",
    "from extract_mir import table_missing, play_audio\n",
    "\n",
    "from sklearn.preprocessing import ( \n",
    "    LabelEncoder,\n",
    "    MinMaxScaler\n",
    ")\n",
    "\n",
    "from sklearn.model_selection import (\n",
    "    KFold,\n",
    "    StratifiedKFold,\n",
    "    cross_val_score\n",
    ")\n",
    "\n",
    "from skopt import BayesSearchCV\n",
    "from skopt.space import Real, Integer, Categorical\n",
    "from sklearn.feature_selection import RFECV\n",
    "from sklearn.pipeline import Pipeline\n",
    "\n",
    "from sklearn.neural_network import MLPClassifier\n",
    "from sklearn.tree import DecisionTreeClassifier\n",
    "from sklearn.linear_model import LogisticRegression\n",
    "from sklearn.ensemble import RandomForestClassifier\n",
    "from sklearn.neighbors import KNeighborsClassifier\n",
    "from xgboost import XGBClassifier\n",
    "from lightgbm import LGBMClassifier"
   ]
  },
  {
   "cell_type": "markdown",
   "metadata": {},
   "source": [
    "# Import Data"
   ]
  },
  {
   "cell_type": "code",
   "execution_count": 2,
   "metadata": {},
   "outputs": [
    {
     "data": {
      "text/html": [
       "<div>\n",
       "<style scoped>\n",
       "    .dataframe tbody tr th:only-of-type {\n",
       "        vertical-align: middle;\n",
       "    }\n",
       "\n",
       "    .dataframe tbody tr th {\n",
       "        vertical-align: top;\n",
       "    }\n",
       "\n",
       "    .dataframe thead th {\n",
       "        text-align: right;\n",
       "    }\n",
       "</style>\n",
       "<table border=\"1\" class=\"dataframe\">\n",
       "  <thead>\n",
       "    <tr style=\"text-align: right;\">\n",
       "      <th></th>\n",
       "      <th>arquivo</th>\n",
       "      <th>species</th>\n",
       "      <th>tempogram-mean-0</th>\n",
       "      <th>tempogram-mean-1</th>\n",
       "      <th>tempogram-mean-2</th>\n",
       "      <th>tempogram-mean-3</th>\n",
       "      <th>tempogram-mean-4</th>\n",
       "      <th>tempogram-mean-5</th>\n",
       "      <th>tempogram-mean-6</th>\n",
       "      <th>tempogram-mean-7</th>\n",
       "      <th>...</th>\n",
       "      <th>mfcc-mean-49</th>\n",
       "      <th>tonnetz-mean-0</th>\n",
       "      <th>tonnetz-mean-1</th>\n",
       "      <th>tonnetz-mean-2</th>\n",
       "      <th>tonnetz-mean-3</th>\n",
       "      <th>tonnetz-mean-4</th>\n",
       "      <th>tonnetz-mean-5</th>\n",
       "      <th>rms-mean-0</th>\n",
       "      <th>zcr-mean-0</th>\n",
       "      <th>rolloff-mean-0</th>\n",
       "    </tr>\n",
       "  </thead>\n",
       "  <tbody>\n",
       "    <tr>\n",
       "      <th>0</th>\n",
       "      <td>132608</td>\n",
       "      <td>flammea</td>\n",
       "      <td>1.0</td>\n",
       "      <td>0.947106</td>\n",
       "      <td>0.916835</td>\n",
       "      <td>0.917622</td>\n",
       "      <td>0.918789</td>\n",
       "      <td>0.916606</td>\n",
       "      <td>0.914797</td>\n",
       "      <td>0.915190</td>\n",
       "      <td>...</td>\n",
       "      <td>1.593964</td>\n",
       "      <td>-0.006485</td>\n",
       "      <td>0.004259</td>\n",
       "      <td>-0.005751</td>\n",
       "      <td>0.003680</td>\n",
       "      <td>-0.002690</td>\n",
       "      <td>0.000009</td>\n",
       "      <td>0.010133</td>\n",
       "      <td>0.156673</td>\n",
       "      <td>10971.990206</td>\n",
       "    </tr>\n",
       "    <tr>\n",
       "      <th>1</th>\n",
       "      <td>132611</td>\n",
       "      <td>flammea</td>\n",
       "      <td>1.0</td>\n",
       "      <td>0.928961</td>\n",
       "      <td>0.863120</td>\n",
       "      <td>0.832358</td>\n",
       "      <td>0.815666</td>\n",
       "      <td>0.804090</td>\n",
       "      <td>0.808824</td>\n",
       "      <td>0.824190</td>\n",
       "      <td>...</td>\n",
       "      <td>1.661841</td>\n",
       "      <td>0.002514</td>\n",
       "      <td>-0.022335</td>\n",
       "      <td>-0.011952</td>\n",
       "      <td>0.058717</td>\n",
       "      <td>0.016824</td>\n",
       "      <td>-0.005542</td>\n",
       "      <td>0.013791</td>\n",
       "      <td>0.144492</td>\n",
       "      <td>11565.475525</td>\n",
       "    </tr>\n",
       "    <tr>\n",
       "      <th>2</th>\n",
       "      <td>35068</td>\n",
       "      <td>flammea</td>\n",
       "      <td>1.0</td>\n",
       "      <td>0.871185</td>\n",
       "      <td>0.745585</td>\n",
       "      <td>0.694683</td>\n",
       "      <td>0.664319</td>\n",
       "      <td>0.650915</td>\n",
       "      <td>0.663918</td>\n",
       "      <td>0.691141</td>\n",
       "      <td>...</td>\n",
       "      <td>-0.142084</td>\n",
       "      <td>0.004548</td>\n",
       "      <td>-0.009998</td>\n",
       "      <td>0.048268</td>\n",
       "      <td>-0.015490</td>\n",
       "      <td>-0.011625</td>\n",
       "      <td>-0.010950</td>\n",
       "      <td>0.010008</td>\n",
       "      <td>0.236547</td>\n",
       "      <td>11098.715496</td>\n",
       "    </tr>\n",
       "    <tr>\n",
       "      <th>3</th>\n",
       "      <td>82715</td>\n",
       "      <td>palustris</td>\n",
       "      <td>1.0</td>\n",
       "      <td>0.754161</td>\n",
       "      <td>0.538215</td>\n",
       "      <td>0.502754</td>\n",
       "      <td>0.491417</td>\n",
       "      <td>0.504126</td>\n",
       "      <td>0.560820</td>\n",
       "      <td>0.549658</td>\n",
       "      <td>...</td>\n",
       "      <td>-0.630695</td>\n",
       "      <td>0.003534</td>\n",
       "      <td>0.000077</td>\n",
       "      <td>0.016498</td>\n",
       "      <td>-0.007280</td>\n",
       "      <td>-0.005929</td>\n",
       "      <td>-0.001681</td>\n",
       "      <td>0.015728</td>\n",
       "      <td>0.235209</td>\n",
       "      <td>9576.714957</td>\n",
       "    </tr>\n",
       "    <tr>\n",
       "      <th>4</th>\n",
       "      <td>64685</td>\n",
       "      <td>palustris</td>\n",
       "      <td>1.0</td>\n",
       "      <td>0.821789</td>\n",
       "      <td>0.671557</td>\n",
       "      <td>0.644815</td>\n",
       "      <td>0.664769</td>\n",
       "      <td>0.675007</td>\n",
       "      <td>0.669493</td>\n",
       "      <td>0.679025</td>\n",
       "      <td>...</td>\n",
       "      <td>-0.797602</td>\n",
       "      <td>0.005944</td>\n",
       "      <td>-0.007011</td>\n",
       "      <td>0.028142</td>\n",
       "      <td>-0.019186</td>\n",
       "      <td>0.001500</td>\n",
       "      <td>0.000639</td>\n",
       "      <td>0.011937</td>\n",
       "      <td>0.206531</td>\n",
       "      <td>9820.667665</td>\n",
       "    </tr>\n",
       "  </tbody>\n",
       "</table>\n",
       "<p>5 rows × 609 columns</p>\n",
       "</div>"
      ],
      "text/plain": [
       "   arquivo    species  tempogram-mean-0  tempogram-mean-1  tempogram-mean-2  \\\n",
       "0   132608    flammea               1.0          0.947106          0.916835   \n",
       "1   132611    flammea               1.0          0.928961          0.863120   \n",
       "2    35068    flammea               1.0          0.871185          0.745585   \n",
       "3    82715  palustris               1.0          0.754161          0.538215   \n",
       "4    64685  palustris               1.0          0.821789          0.671557   \n",
       "\n",
       "   tempogram-mean-3  tempogram-mean-4  tempogram-mean-5  tempogram-mean-6  \\\n",
       "0          0.917622          0.918789          0.916606          0.914797   \n",
       "1          0.832358          0.815666          0.804090          0.808824   \n",
       "2          0.694683          0.664319          0.650915          0.663918   \n",
       "3          0.502754          0.491417          0.504126          0.560820   \n",
       "4          0.644815          0.664769          0.675007          0.669493   \n",
       "\n",
       "   tempogram-mean-7  ...  mfcc-mean-49  tonnetz-mean-0  tonnetz-mean-1  \\\n",
       "0          0.915190  ...      1.593964       -0.006485        0.004259   \n",
       "1          0.824190  ...      1.661841        0.002514       -0.022335   \n",
       "2          0.691141  ...     -0.142084        0.004548       -0.009998   \n",
       "3          0.549658  ...     -0.630695        0.003534        0.000077   \n",
       "4          0.679025  ...     -0.797602        0.005944       -0.007011   \n",
       "\n",
       "   tonnetz-mean-2  tonnetz-mean-3  tonnetz-mean-4  tonnetz-mean-5  rms-mean-0  \\\n",
       "0       -0.005751        0.003680       -0.002690        0.000009    0.010133   \n",
       "1       -0.011952        0.058717        0.016824       -0.005542    0.013791   \n",
       "2        0.048268       -0.015490       -0.011625       -0.010950    0.010008   \n",
       "3        0.016498       -0.007280       -0.005929       -0.001681    0.015728   \n",
       "4        0.028142       -0.019186        0.001500        0.000639    0.011937   \n",
       "\n",
       "   zcr-mean-0  rolloff-mean-0  \n",
       "0    0.156673    10971.990206  \n",
       "1    0.144492    11565.475525  \n",
       "2    0.236547    11098.715496  \n",
       "3    0.235209     9576.714957  \n",
       "4    0.206531     9820.667665  \n",
       "\n",
       "[5 rows x 609 columns]"
      ]
     },
     "execution_count": 2,
     "metadata": {},
     "output_type": "execute_result"
    }
   ],
   "source": [
    "df = pd.read_csv('data/features_sonds_mean_mel50.csv').drop(columns=[\"Unnamed: 0\"])\n",
    "df.head()"
   ]
  },
  {
   "cell_type": "markdown",
   "metadata": {},
   "source": [
    "# Baseline"
   ]
  },
  {
   "cell_type": "markdown",
   "metadata": {},
   "source": [
    "- Criar labels numericas para coluna species  "
   ]
  },
  {
   "cell_type": "code",
   "execution_count": 3,
   "metadata": {},
   "outputs": [],
   "source": [
    "le = LabelEncoder()\n",
    "\n",
    "df['classes'] = le.fit_transform(df['species'])"
   ]
  },
  {
   "cell_type": "markdown",
   "metadata": {},
   "source": [
    "- Definindo X e y da baseline"
   ]
  },
  {
   "cell_type": "code",
   "execution_count": 4,
   "metadata": {},
   "outputs": [],
   "source": [
    "X_baseline = df.drop(columns=[\"arquivo\", \"species\", \"classes\"])\n",
    "y_baseline = df[\"classes\"]\n",
    "\n",
    "kfold = StratifiedKFold(n_splits=5, shuffle=True, random_state=42)"
   ]
  },
  {
   "cell_type": "markdown",
   "metadata": {},
   "source": [
    "- Arvore de Decisão"
   ]
  },
  {
   "cell_type": "code",
   "execution_count": 5,
   "metadata": {},
   "outputs": [
    {
     "name": "stdout",
     "output_type": "stream",
     "text": [
      "score: 12.0%\n"
     ]
    }
   ],
   "source": [
    "decision_tree = DecisionTreeClassifier()\n",
    "\n",
    "baseline_score = cross_val_score(decision_tree, X_baseline, y_baseline, cv=kfold, scoring=\"accuracy\")\n",
    "print(f'score: { round(np.mean(baseline_score), 2) * 100}%')"
   ]
  },
  {
   "cell_type": "markdown",
   "metadata": {},
   "source": [
    "# Feature Selection"
   ]
  },
  {
   "cell_type": "markdown",
   "metadata": {},
   "source": [
    "### Por Correlação"
   ]
  },
  {
   "cell_type": "code",
   "execution_count": 6,
   "metadata": {},
   "outputs": [
    {
     "data": {
      "text/html": [
       "<div>\n",
       "<style scoped>\n",
       "    .dataframe tbody tr th:only-of-type {\n",
       "        vertical-align: middle;\n",
       "    }\n",
       "\n",
       "    .dataframe tbody tr th {\n",
       "        vertical-align: top;\n",
       "    }\n",
       "\n",
       "    .dataframe thead th {\n",
       "        text-align: right;\n",
       "    }\n",
       "</style>\n",
       "<table border=\"1\" class=\"dataframe\">\n",
       "  <thead>\n",
       "    <tr style=\"text-align: right;\">\n",
       "      <th></th>\n",
       "      <th>tempogram-mean-0</th>\n",
       "      <th>tempogram-mean-1</th>\n",
       "      <th>tempogram-mean-2</th>\n",
       "      <th>tempogram-mean-3</th>\n",
       "      <th>tempogram-mean-4</th>\n",
       "      <th>tempogram-mean-5</th>\n",
       "      <th>tempogram-mean-6</th>\n",
       "      <th>tempogram-mean-7</th>\n",
       "      <th>tempogram-mean-8</th>\n",
       "      <th>tempogram-mean-9</th>\n",
       "      <th>...</th>\n",
       "      <th>mfcc-mean-47</th>\n",
       "      <th>mfcc-mean-48</th>\n",
       "      <th>mfcc-mean-49</th>\n",
       "      <th>tonnetz-mean-0</th>\n",
       "      <th>tonnetz-mean-1</th>\n",
       "      <th>tonnetz-mean-2</th>\n",
       "      <th>tonnetz-mean-3</th>\n",
       "      <th>tonnetz-mean-4</th>\n",
       "      <th>tonnetz-mean-5</th>\n",
       "      <th>rms-mean-0</th>\n",
       "    </tr>\n",
       "  </thead>\n",
       "  <tbody>\n",
       "    <tr>\n",
       "      <th>tempogram-mean-0</th>\n",
       "      <td>NaN</td>\n",
       "      <td>NaN</td>\n",
       "      <td>NaN</td>\n",
       "      <td>NaN</td>\n",
       "      <td>NaN</td>\n",
       "      <td>NaN</td>\n",
       "      <td>NaN</td>\n",
       "      <td>NaN</td>\n",
       "      <td>NaN</td>\n",
       "      <td>NaN</td>\n",
       "      <td>...</td>\n",
       "      <td>NaN</td>\n",
       "      <td>NaN</td>\n",
       "      <td>NaN</td>\n",
       "      <td>NaN</td>\n",
       "      <td>NaN</td>\n",
       "      <td>NaN</td>\n",
       "      <td>NaN</td>\n",
       "      <td>NaN</td>\n",
       "      <td>NaN</td>\n",
       "      <td>NaN</td>\n",
       "    </tr>\n",
       "    <tr>\n",
       "      <th>tempogram-mean-1</th>\n",
       "      <td>NaN</td>\n",
       "      <td>1.000000</td>\n",
       "      <td>0.952074</td>\n",
       "      <td>0.783402</td>\n",
       "      <td>0.865017</td>\n",
       "      <td>0.858657</td>\n",
       "      <td>0.728189</td>\n",
       "      <td>0.826525</td>\n",
       "      <td>0.867477</td>\n",
       "      <td>0.771899</td>\n",
       "      <td>...</td>\n",
       "      <td>0.041752</td>\n",
       "      <td>-0.072765</td>\n",
       "      <td>-0.041005</td>\n",
       "      <td>-0.027526</td>\n",
       "      <td>0.075960</td>\n",
       "      <td>-0.255079</td>\n",
       "      <td>0.114612</td>\n",
       "      <td>0.137314</td>\n",
       "      <td>0.067647</td>\n",
       "      <td>-0.143351</td>\n",
       "    </tr>\n",
       "    <tr>\n",
       "      <th>tempogram-mean-2</th>\n",
       "      <td>NaN</td>\n",
       "      <td>0.952074</td>\n",
       "      <td>1.000000</td>\n",
       "      <td>0.932159</td>\n",
       "      <td>0.957960</td>\n",
       "      <td>0.931522</td>\n",
       "      <td>0.866526</td>\n",
       "      <td>0.921862</td>\n",
       "      <td>0.943328</td>\n",
       "      <td>0.902420</td>\n",
       "      <td>...</td>\n",
       "      <td>0.008842</td>\n",
       "      <td>0.004089</td>\n",
       "      <td>-0.052422</td>\n",
       "      <td>-0.014004</td>\n",
       "      <td>0.080942</td>\n",
       "      <td>-0.235921</td>\n",
       "      <td>0.140508</td>\n",
       "      <td>0.135522</td>\n",
       "      <td>0.082023</td>\n",
       "      <td>-0.150398</td>\n",
       "    </tr>\n",
       "    <tr>\n",
       "      <th>tempogram-mean-3</th>\n",
       "      <td>NaN</td>\n",
       "      <td>0.783402</td>\n",
       "      <td>0.932159</td>\n",
       "      <td>1.000000</td>\n",
       "      <td>0.957687</td>\n",
       "      <td>0.902330</td>\n",
       "      <td>0.929309</td>\n",
       "      <td>0.932136</td>\n",
       "      <td>0.915879</td>\n",
       "      <td>0.948141</td>\n",
       "      <td>...</td>\n",
       "      <td>-0.032445</td>\n",
       "      <td>0.092304</td>\n",
       "      <td>-0.056606</td>\n",
       "      <td>-0.007944</td>\n",
       "      <td>0.082002</td>\n",
       "      <td>-0.195687</td>\n",
       "      <td>0.137238</td>\n",
       "      <td>0.136450</td>\n",
       "      <td>0.083986</td>\n",
       "      <td>-0.137048</td>\n",
       "    </tr>\n",
       "    <tr>\n",
       "      <th>tempogram-mean-4</th>\n",
       "      <td>NaN</td>\n",
       "      <td>0.865017</td>\n",
       "      <td>0.957960</td>\n",
       "      <td>0.957687</td>\n",
       "      <td>1.000000</td>\n",
       "      <td>0.972271</td>\n",
       "      <td>0.934538</td>\n",
       "      <td>0.975583</td>\n",
       "      <td>0.966162</td>\n",
       "      <td>0.944666</td>\n",
       "      <td>...</td>\n",
       "      <td>0.004928</td>\n",
       "      <td>0.045084</td>\n",
       "      <td>-0.063145</td>\n",
       "      <td>-0.007183</td>\n",
       "      <td>0.074791</td>\n",
       "      <td>-0.204081</td>\n",
       "      <td>0.126997</td>\n",
       "      <td>0.107263</td>\n",
       "      <td>0.072630</td>\n",
       "      <td>-0.155259</td>\n",
       "    </tr>\n",
       "    <tr>\n",
       "      <th>...</th>\n",
       "      <td>...</td>\n",
       "      <td>...</td>\n",
       "      <td>...</td>\n",
       "      <td>...</td>\n",
       "      <td>...</td>\n",
       "      <td>...</td>\n",
       "      <td>...</td>\n",
       "      <td>...</td>\n",
       "      <td>...</td>\n",
       "      <td>...</td>\n",
       "      <td>...</td>\n",
       "      <td>...</td>\n",
       "      <td>...</td>\n",
       "      <td>...</td>\n",
       "      <td>...</td>\n",
       "      <td>...</td>\n",
       "      <td>...</td>\n",
       "      <td>...</td>\n",
       "      <td>...</td>\n",
       "      <td>...</td>\n",
       "      <td>...</td>\n",
       "    </tr>\n",
       "    <tr>\n",
       "      <th>tonnetz-mean-2</th>\n",
       "      <td>NaN</td>\n",
       "      <td>-0.255079</td>\n",
       "      <td>-0.235921</td>\n",
       "      <td>-0.195687</td>\n",
       "      <td>-0.204081</td>\n",
       "      <td>-0.183585</td>\n",
       "      <td>-0.159286</td>\n",
       "      <td>-0.203316</td>\n",
       "      <td>-0.211473</td>\n",
       "      <td>-0.195042</td>\n",
       "      <td>...</td>\n",
       "      <td>-0.026824</td>\n",
       "      <td>0.190417</td>\n",
       "      <td>-0.018650</td>\n",
       "      <td>0.475604</td>\n",
       "      <td>-0.349256</td>\n",
       "      <td>1.000000</td>\n",
       "      <td>-0.278862</td>\n",
       "      <td>-0.653105</td>\n",
       "      <td>-0.490983</td>\n",
       "      <td>-0.253646</td>\n",
       "    </tr>\n",
       "    <tr>\n",
       "      <th>tonnetz-mean-3</th>\n",
       "      <td>NaN</td>\n",
       "      <td>0.114612</td>\n",
       "      <td>0.140508</td>\n",
       "      <td>0.137238</td>\n",
       "      <td>0.126997</td>\n",
       "      <td>0.125510</td>\n",
       "      <td>0.118634</td>\n",
       "      <td>0.130747</td>\n",
       "      <td>0.152845</td>\n",
       "      <td>0.147366</td>\n",
       "      <td>...</td>\n",
       "      <td>0.213339</td>\n",
       "      <td>-0.000409</td>\n",
       "      <td>0.062163</td>\n",
       "      <td>0.033636</td>\n",
       "      <td>0.112342</td>\n",
       "      <td>-0.278862</td>\n",
       "      <td>1.000000</td>\n",
       "      <td>0.087158</td>\n",
       "      <td>0.360819</td>\n",
       "      <td>0.153998</td>\n",
       "    </tr>\n",
       "    <tr>\n",
       "      <th>tonnetz-mean-4</th>\n",
       "      <td>NaN</td>\n",
       "      <td>0.137314</td>\n",
       "      <td>0.135522</td>\n",
       "      <td>0.136450</td>\n",
       "      <td>0.107263</td>\n",
       "      <td>0.090856</td>\n",
       "      <td>0.119918</td>\n",
       "      <td>0.130391</td>\n",
       "      <td>0.112696</td>\n",
       "      <td>0.126580</td>\n",
       "      <td>...</td>\n",
       "      <td>-0.095632</td>\n",
       "      <td>-0.235287</td>\n",
       "      <td>0.058894</td>\n",
       "      <td>-0.526424</td>\n",
       "      <td>0.508047</td>\n",
       "      <td>-0.653105</td>\n",
       "      <td>0.087158</td>\n",
       "      <td>1.000000</td>\n",
       "      <td>0.111689</td>\n",
       "      <td>0.230621</td>\n",
       "    </tr>\n",
       "    <tr>\n",
       "      <th>tonnetz-mean-5</th>\n",
       "      <td>NaN</td>\n",
       "      <td>0.067647</td>\n",
       "      <td>0.082023</td>\n",
       "      <td>0.083986</td>\n",
       "      <td>0.072630</td>\n",
       "      <td>0.069660</td>\n",
       "      <td>0.064428</td>\n",
       "      <td>0.064532</td>\n",
       "      <td>0.090888</td>\n",
       "      <td>0.095759</td>\n",
       "      <td>...</td>\n",
       "      <td>0.172656</td>\n",
       "      <td>0.072305</td>\n",
       "      <td>0.050766</td>\n",
       "      <td>-0.094386</td>\n",
       "      <td>0.333758</td>\n",
       "      <td>-0.490983</td>\n",
       "      <td>0.360819</td>\n",
       "      <td>0.111689</td>\n",
       "      <td>1.000000</td>\n",
       "      <td>0.094825</td>\n",
       "    </tr>\n",
       "    <tr>\n",
       "      <th>rms-mean-0</th>\n",
       "      <td>NaN</td>\n",
       "      <td>-0.143351</td>\n",
       "      <td>-0.150398</td>\n",
       "      <td>-0.137048</td>\n",
       "      <td>-0.155259</td>\n",
       "      <td>-0.153385</td>\n",
       "      <td>-0.127549</td>\n",
       "      <td>-0.130774</td>\n",
       "      <td>-0.151864</td>\n",
       "      <td>-0.143905</td>\n",
       "      <td>...</td>\n",
       "      <td>0.151248</td>\n",
       "      <td>-0.121057</td>\n",
       "      <td>0.037935</td>\n",
       "      <td>-0.160540</td>\n",
       "      <td>0.119060</td>\n",
       "      <td>-0.253646</td>\n",
       "      <td>0.153998</td>\n",
       "      <td>0.230621</td>\n",
       "      <td>0.094825</td>\n",
       "      <td>1.000000</td>\n",
       "    </tr>\n",
       "  </tbody>\n",
       "</table>\n",
       "<p>605 rows × 605 columns</p>\n",
       "</div>"
      ],
      "text/plain": [
       "                  tempogram-mean-0  tempogram-mean-1  tempogram-mean-2  \\\n",
       "tempogram-mean-0               NaN               NaN               NaN   \n",
       "tempogram-mean-1               NaN          1.000000          0.952074   \n",
       "tempogram-mean-2               NaN          0.952074          1.000000   \n",
       "tempogram-mean-3               NaN          0.783402          0.932159   \n",
       "tempogram-mean-4               NaN          0.865017          0.957960   \n",
       "...                            ...               ...               ...   \n",
       "tonnetz-mean-2                 NaN         -0.255079         -0.235921   \n",
       "tonnetz-mean-3                 NaN          0.114612          0.140508   \n",
       "tonnetz-mean-4                 NaN          0.137314          0.135522   \n",
       "tonnetz-mean-5                 NaN          0.067647          0.082023   \n",
       "rms-mean-0                     NaN         -0.143351         -0.150398   \n",
       "\n",
       "                  tempogram-mean-3  tempogram-mean-4  tempogram-mean-5  \\\n",
       "tempogram-mean-0               NaN               NaN               NaN   \n",
       "tempogram-mean-1          0.783402          0.865017          0.858657   \n",
       "tempogram-mean-2          0.932159          0.957960          0.931522   \n",
       "tempogram-mean-3          1.000000          0.957687          0.902330   \n",
       "tempogram-mean-4          0.957687          1.000000          0.972271   \n",
       "...                            ...               ...               ...   \n",
       "tonnetz-mean-2           -0.195687         -0.204081         -0.183585   \n",
       "tonnetz-mean-3            0.137238          0.126997          0.125510   \n",
       "tonnetz-mean-4            0.136450          0.107263          0.090856   \n",
       "tonnetz-mean-5            0.083986          0.072630          0.069660   \n",
       "rms-mean-0               -0.137048         -0.155259         -0.153385   \n",
       "\n",
       "                  tempogram-mean-6  tempogram-mean-7  tempogram-mean-8  \\\n",
       "tempogram-mean-0               NaN               NaN               NaN   \n",
       "tempogram-mean-1          0.728189          0.826525          0.867477   \n",
       "tempogram-mean-2          0.866526          0.921862          0.943328   \n",
       "tempogram-mean-3          0.929309          0.932136          0.915879   \n",
       "tempogram-mean-4          0.934538          0.975583          0.966162   \n",
       "...                            ...               ...               ...   \n",
       "tonnetz-mean-2           -0.159286         -0.203316         -0.211473   \n",
       "tonnetz-mean-3            0.118634          0.130747          0.152845   \n",
       "tonnetz-mean-4            0.119918          0.130391          0.112696   \n",
       "tonnetz-mean-5            0.064428          0.064532          0.090888   \n",
       "rms-mean-0               -0.127549         -0.130774         -0.151864   \n",
       "\n",
       "                  tempogram-mean-9  ...  mfcc-mean-47  mfcc-mean-48  \\\n",
       "tempogram-mean-0               NaN  ...           NaN           NaN   \n",
       "tempogram-mean-1          0.771899  ...      0.041752     -0.072765   \n",
       "tempogram-mean-2          0.902420  ...      0.008842      0.004089   \n",
       "tempogram-mean-3          0.948141  ...     -0.032445      0.092304   \n",
       "tempogram-mean-4          0.944666  ...      0.004928      0.045084   \n",
       "...                            ...  ...           ...           ...   \n",
       "tonnetz-mean-2           -0.195042  ...     -0.026824      0.190417   \n",
       "tonnetz-mean-3            0.147366  ...      0.213339     -0.000409   \n",
       "tonnetz-mean-4            0.126580  ...     -0.095632     -0.235287   \n",
       "tonnetz-mean-5            0.095759  ...      0.172656      0.072305   \n",
       "rms-mean-0               -0.143905  ...      0.151248     -0.121057   \n",
       "\n",
       "                  mfcc-mean-49  tonnetz-mean-0  tonnetz-mean-1  \\\n",
       "tempogram-mean-0           NaN             NaN             NaN   \n",
       "tempogram-mean-1     -0.041005       -0.027526        0.075960   \n",
       "tempogram-mean-2     -0.052422       -0.014004        0.080942   \n",
       "tempogram-mean-3     -0.056606       -0.007944        0.082002   \n",
       "tempogram-mean-4     -0.063145       -0.007183        0.074791   \n",
       "...                        ...             ...             ...   \n",
       "tonnetz-mean-2       -0.018650        0.475604       -0.349256   \n",
       "tonnetz-mean-3        0.062163        0.033636        0.112342   \n",
       "tonnetz-mean-4        0.058894       -0.526424        0.508047   \n",
       "tonnetz-mean-5        0.050766       -0.094386        0.333758   \n",
       "rms-mean-0            0.037935       -0.160540        0.119060   \n",
       "\n",
       "                  tonnetz-mean-2  tonnetz-mean-3  tonnetz-mean-4  \\\n",
       "tempogram-mean-0             NaN             NaN             NaN   \n",
       "tempogram-mean-1       -0.255079        0.114612        0.137314   \n",
       "tempogram-mean-2       -0.235921        0.140508        0.135522   \n",
       "tempogram-mean-3       -0.195687        0.137238        0.136450   \n",
       "tempogram-mean-4       -0.204081        0.126997        0.107263   \n",
       "...                          ...             ...             ...   \n",
       "tonnetz-mean-2          1.000000       -0.278862       -0.653105   \n",
       "tonnetz-mean-3         -0.278862        1.000000        0.087158   \n",
       "tonnetz-mean-4         -0.653105        0.087158        1.000000   \n",
       "tonnetz-mean-5         -0.490983        0.360819        0.111689   \n",
       "rms-mean-0             -0.253646        0.153998        0.230621   \n",
       "\n",
       "                  tonnetz-mean-5  rms-mean-0  \n",
       "tempogram-mean-0             NaN         NaN  \n",
       "tempogram-mean-1        0.067647   -0.143351  \n",
       "tempogram-mean-2        0.082023   -0.150398  \n",
       "tempogram-mean-3        0.083986   -0.137048  \n",
       "tempogram-mean-4        0.072630   -0.155259  \n",
       "...                          ...         ...  \n",
       "tonnetz-mean-2         -0.490983   -0.253646  \n",
       "tonnetz-mean-3          0.360819    0.153998  \n",
       "tonnetz-mean-4          0.111689    0.230621  \n",
       "tonnetz-mean-5          1.000000    0.094825  \n",
       "rms-mean-0              0.094825    1.000000  \n",
       "\n",
       "[605 rows x 605 columns]"
      ]
     },
     "execution_count": 6,
     "metadata": {},
     "output_type": "execute_result"
    }
   ],
   "source": [
    "matrix_corr = df[df.columns[2:607]].corr()\n",
    "matrix_corr"
   ]
  },
  {
   "cell_type": "markdown",
   "metadata": {},
   "source": [
    "- Transformando matrix em df de correlação "
   ]
  },
  {
   "cell_type": "code",
   "execution_count": 8,
   "metadata": {},
   "outputs": [
    {
     "data": {
      "text/html": [
       "<div>\n",
       "<style scoped>\n",
       "    .dataframe tbody tr th:only-of-type {\n",
       "        vertical-align: middle;\n",
       "    }\n",
       "\n",
       "    .dataframe tbody tr th {\n",
       "        vertical-align: top;\n",
       "    }\n",
       "\n",
       "    .dataframe thead th {\n",
       "        text-align: right;\n",
       "    }\n",
       "</style>\n",
       "<table border=\"1\" class=\"dataframe\">\n",
       "  <thead>\n",
       "    <tr style=\"text-align: right;\">\n",
       "      <th></th>\n",
       "      <th>column_A</th>\n",
       "      <th>column_B</th>\n",
       "      <th>correlation</th>\n",
       "    </tr>\n",
       "  </thead>\n",
       "  <tbody>\n",
       "    <tr>\n",
       "      <th>0</th>\n",
       "      <td>tempogram-mean-0</td>\n",
       "      <td>tempogram-mean-0</td>\n",
       "      <td>NaN</td>\n",
       "    </tr>\n",
       "    <tr>\n",
       "      <th>1</th>\n",
       "      <td>tempogram-mean-0</td>\n",
       "      <td>tempogram-mean-1</td>\n",
       "      <td>NaN</td>\n",
       "    </tr>\n",
       "    <tr>\n",
       "      <th>2</th>\n",
       "      <td>tempogram-mean-0</td>\n",
       "      <td>tempogram-mean-2</td>\n",
       "      <td>NaN</td>\n",
       "    </tr>\n",
       "    <tr>\n",
       "      <th>3</th>\n",
       "      <td>tempogram-mean-0</td>\n",
       "      <td>tempogram-mean-3</td>\n",
       "      <td>NaN</td>\n",
       "    </tr>\n",
       "    <tr>\n",
       "      <th>4</th>\n",
       "      <td>tempogram-mean-0</td>\n",
       "      <td>tempogram-mean-4</td>\n",
       "      <td>NaN</td>\n",
       "    </tr>\n",
       "    <tr>\n",
       "      <th>...</th>\n",
       "      <td>...</td>\n",
       "      <td>...</td>\n",
       "      <td>...</td>\n",
       "    </tr>\n",
       "    <tr>\n",
       "      <th>366020</th>\n",
       "      <td>rms-mean-0</td>\n",
       "      <td>tonnetz-mean-2</td>\n",
       "      <td>-0.253646</td>\n",
       "    </tr>\n",
       "    <tr>\n",
       "      <th>366021</th>\n",
       "      <td>rms-mean-0</td>\n",
       "      <td>tonnetz-mean-3</td>\n",
       "      <td>0.153998</td>\n",
       "    </tr>\n",
       "    <tr>\n",
       "      <th>366022</th>\n",
       "      <td>rms-mean-0</td>\n",
       "      <td>tonnetz-mean-4</td>\n",
       "      <td>0.230621</td>\n",
       "    </tr>\n",
       "    <tr>\n",
       "      <th>366023</th>\n",
       "      <td>rms-mean-0</td>\n",
       "      <td>tonnetz-mean-5</td>\n",
       "      <td>0.094825</td>\n",
       "    </tr>\n",
       "    <tr>\n",
       "      <th>366024</th>\n",
       "      <td>rms-mean-0</td>\n",
       "      <td>rms-mean-0</td>\n",
       "      <td>1.000000</td>\n",
       "    </tr>\n",
       "  </tbody>\n",
       "</table>\n",
       "<p>366025 rows × 3 columns</p>\n",
       "</div>"
      ],
      "text/plain": [
       "                column_A          column_B  correlation\n",
       "0       tempogram-mean-0  tempogram-mean-0          NaN\n",
       "1       tempogram-mean-0  tempogram-mean-1          NaN\n",
       "2       tempogram-mean-0  tempogram-mean-2          NaN\n",
       "3       tempogram-mean-0  tempogram-mean-3          NaN\n",
       "4       tempogram-mean-0  tempogram-mean-4          NaN\n",
       "...                  ...               ...          ...\n",
       "366020        rms-mean-0    tonnetz-mean-2    -0.253646\n",
       "366021        rms-mean-0    tonnetz-mean-3     0.153998\n",
       "366022        rms-mean-0    tonnetz-mean-4     0.230621\n",
       "366023        rms-mean-0    tonnetz-mean-5     0.094825\n",
       "366024        rms-mean-0        rms-mean-0     1.000000\n",
       "\n",
       "[366025 rows x 3 columns]"
      ]
     },
     "execution_count": 8,
     "metadata": {},
     "output_type": "execute_result"
    }
   ],
   "source": [
    "df_corr = matrix_corr.unstack().reset_index()\n",
    "df_corr = df_corr.rename(columns={\n",
    "    \"level_0\":\"column_A\",\n",
    "    \"level_1\":\"column_B\",\n",
    "    0:\"correlation\"\n",
    "})\n",
    "\n",
    "df_corr"
   ]
  },
  {
   "cell_type": "code",
   "execution_count": 9,
   "metadata": {},
   "outputs": [
    {
     "data": {
      "text/plain": [
       "(605,)"
      ]
     },
     "execution_count": 9,
     "metadata": {},
     "output_type": "execute_result"
    }
   ],
   "source": [
    "df_corr.column_A.unique().shape"
   ]
  },
  {
   "cell_type": "markdown",
   "metadata": {},
   "source": [
    "- Pegar correlações maiores que 0.9"
   ]
  },
  {
   "cell_type": "code",
   "execution_count": 10,
   "metadata": {},
   "outputs": [
    {
     "data": {
      "text/html": [
       "<div>\n",
       "<style scoped>\n",
       "    .dataframe tbody tr th:only-of-type {\n",
       "        vertical-align: middle;\n",
       "    }\n",
       "\n",
       "    .dataframe tbody tr th {\n",
       "        vertical-align: top;\n",
       "    }\n",
       "\n",
       "    .dataframe thead th {\n",
       "        text-align: right;\n",
       "    }\n",
       "</style>\n",
       "<table border=\"1\" class=\"dataframe\">\n",
       "  <thead>\n",
       "    <tr style=\"text-align: right;\">\n",
       "      <th></th>\n",
       "      <th>column_A</th>\n",
       "      <th>column_B</th>\n",
       "      <th>correlation</th>\n",
       "    </tr>\n",
       "  </thead>\n",
       "  <tbody>\n",
       "    <tr>\n",
       "      <th>606</th>\n",
       "      <td>tempogram-mean-1</td>\n",
       "      <td>tempogram-mean-1</td>\n",
       "      <td>1.000000</td>\n",
       "    </tr>\n",
       "    <tr>\n",
       "      <th>607</th>\n",
       "      <td>tempogram-mean-1</td>\n",
       "      <td>tempogram-mean-2</td>\n",
       "      <td>0.952074</td>\n",
       "    </tr>\n",
       "    <tr>\n",
       "      <th>1211</th>\n",
       "      <td>tempogram-mean-2</td>\n",
       "      <td>tempogram-mean-1</td>\n",
       "      <td>0.952074</td>\n",
       "    </tr>\n",
       "    <tr>\n",
       "      <th>1212</th>\n",
       "      <td>tempogram-mean-2</td>\n",
       "      <td>tempogram-mean-2</td>\n",
       "      <td>1.000000</td>\n",
       "    </tr>\n",
       "    <tr>\n",
       "      <th>1213</th>\n",
       "      <td>tempogram-mean-2</td>\n",
       "      <td>tempogram-mean-3</td>\n",
       "      <td>0.932159</td>\n",
       "    </tr>\n",
       "    <tr>\n",
       "      <th>...</th>\n",
       "      <td>...</td>\n",
       "      <td>...</td>\n",
       "      <td>...</td>\n",
       "    </tr>\n",
       "    <tr>\n",
       "      <th>363600</th>\n",
       "      <td>tonnetz-mean-2</td>\n",
       "      <td>tonnetz-mean-2</td>\n",
       "      <td>1.000000</td>\n",
       "    </tr>\n",
       "    <tr>\n",
       "      <th>364206</th>\n",
       "      <td>tonnetz-mean-3</td>\n",
       "      <td>tonnetz-mean-3</td>\n",
       "      <td>1.000000</td>\n",
       "    </tr>\n",
       "    <tr>\n",
       "      <th>364812</th>\n",
       "      <td>tonnetz-mean-4</td>\n",
       "      <td>tonnetz-mean-4</td>\n",
       "      <td>1.000000</td>\n",
       "    </tr>\n",
       "    <tr>\n",
       "      <th>365418</th>\n",
       "      <td>tonnetz-mean-5</td>\n",
       "      <td>tonnetz-mean-5</td>\n",
       "      <td>1.000000</td>\n",
       "    </tr>\n",
       "    <tr>\n",
       "      <th>366024</th>\n",
       "      <td>rms-mean-0</td>\n",
       "      <td>rms-mean-0</td>\n",
       "      <td>1.000000</td>\n",
       "    </tr>\n",
       "  </tbody>\n",
       "</table>\n",
       "<p>93568 rows × 3 columns</p>\n",
       "</div>"
      ],
      "text/plain": [
       "                column_A          column_B  correlation\n",
       "606     tempogram-mean-1  tempogram-mean-1     1.000000\n",
       "607     tempogram-mean-1  tempogram-mean-2     0.952074\n",
       "1211    tempogram-mean-2  tempogram-mean-1     0.952074\n",
       "1212    tempogram-mean-2  tempogram-mean-2     1.000000\n",
       "1213    tempogram-mean-2  tempogram-mean-3     0.932159\n",
       "...                  ...               ...          ...\n",
       "363600    tonnetz-mean-2    tonnetz-mean-2     1.000000\n",
       "364206    tonnetz-mean-3    tonnetz-mean-3     1.000000\n",
       "364812    tonnetz-mean-4    tonnetz-mean-4     1.000000\n",
       "365418    tonnetz-mean-5    tonnetz-mean-5     1.000000\n",
       "366024        rms-mean-0        rms-mean-0     1.000000\n",
       "\n",
       "[93568 rows x 3 columns]"
      ]
     },
     "execution_count": 10,
     "metadata": {},
     "output_type": "execute_result"
    }
   ],
   "source": [
    "df_corr = df_corr.query('correlation >= 0.9')\n",
    "df_corr"
   ]
  },
  {
   "cell_type": "code",
   "execution_count": 11,
   "metadata": {},
   "outputs": [
    {
     "data": {
      "text/plain": [
       "(604,)"
      ]
     },
     "execution_count": 11,
     "metadata": {},
     "output_type": "execute_result"
    }
   ],
   "source": [
    "df_corr.column_A.unique().shape"
   ]
  },
  {
   "cell_type": "markdown",
   "metadata": {},
   "source": [
    "- Colunas com correlação superior a 0.9"
   ]
  },
  {
   "cell_type": "code",
   "execution_count": 12,
   "metadata": {},
   "outputs": [],
   "source": [
    "columns = df_corr.column_A.unique()"
   ]
  },
  {
   "cell_type": "markdown",
   "metadata": {},
   "source": [
    "- Pegar X e y "
   ]
  },
  {
   "cell_type": "code",
   "execution_count": 13,
   "metadata": {},
   "outputs": [],
   "source": [
    "X = df[columns]\n",
    "y = df['classes']"
   ]
  },
  {
   "cell_type": "markdown",
   "metadata": {},
   "source": [
    "#### Teste 1"
   ]
  },
  {
   "cell_type": "markdown",
   "metadata": {},
   "source": [
    "- Arvore de decisão"
   ]
  },
  {
   "cell_type": "code",
   "execution_count": 15,
   "metadata": {},
   "outputs": [
    {
     "name": "stdout",
     "output_type": "stream",
     "text": [
      "score: 11.0%\n"
     ]
    }
   ],
   "source": [
    "score = cross_val_score(DecisionTreeClassifier(), X, y, cv=kfold, scoring=\"accuracy\")\n",
    "print(f'score: { round(np.mean(score), 2) * 100}%')"
   ]
  },
  {
   "cell_type": "markdown",
   "metadata": {},
   "source": [
    "- Random Forest"
   ]
  },
  {
   "cell_type": "code",
   "execution_count": 17,
   "metadata": {},
   "outputs": [
    {
     "name": "stdout",
     "output_type": "stream",
     "text": [
      "score: 18.0%\n"
     ]
    }
   ],
   "source": [
    "score = cross_val_score(RandomForestClassifier(), X, y, cv=kfold, scoring=\"accuracy\")\n",
    "print(f'score: { round(np.mean(score), 2) * 100}%')"
   ]
  },
  {
   "cell_type": "markdown",
   "metadata": {},
   "source": [
    "- Regressão Logistica"
   ]
  },
  {
   "cell_type": "code",
   "execution_count": 110,
   "metadata": {},
   "outputs": [
    {
     "name": "stdout",
     "output_type": "stream",
     "text": [
      "score: 16.0%\n"
     ]
    }
   ],
   "source": [
    "score = cross_val_score(LogisticRegression(), X, y, cv=kfold, scoring=\"accuracy\")\n",
    "print(f'score: { round(np.mean(score), 2) * 100}%')"
   ]
  },
  {
   "cell_type": "markdown",
   "metadata": {},
   "source": [
    "- knn"
   ]
  },
  {
   "cell_type": "code",
   "execution_count": 18,
   "metadata": {},
   "outputs": [
    {
     "data": {
      "text/html": [
       "<div>\n",
       "<style scoped>\n",
       "    .dataframe tbody tr th:only-of-type {\n",
       "        vertical-align: middle;\n",
       "    }\n",
       "\n",
       "    .dataframe tbody tr th {\n",
       "        vertical-align: top;\n",
       "    }\n",
       "\n",
       "    .dataframe thead th {\n",
       "        text-align: right;\n",
       "    }\n",
       "</style>\n",
       "<table border=\"1\" class=\"dataframe\">\n",
       "  <thead>\n",
       "    <tr style=\"text-align: right;\">\n",
       "      <th></th>\n",
       "      <th>k</th>\n",
       "      <th>acuracia</th>\n",
       "    </tr>\n",
       "  </thead>\n",
       "  <tbody>\n",
       "    <tr>\n",
       "      <th>0</th>\n",
       "      <td>1</td>\n",
       "      <td>16.0</td>\n",
       "    </tr>\n",
       "    <tr>\n",
       "      <th>1</th>\n",
       "      <td>2</td>\n",
       "      <td>10.0</td>\n",
       "    </tr>\n",
       "    <tr>\n",
       "      <th>2</th>\n",
       "      <td>3</td>\n",
       "      <td>9.0</td>\n",
       "    </tr>\n",
       "    <tr>\n",
       "      <th>3</th>\n",
       "      <td>4</td>\n",
       "      <td>8.0</td>\n",
       "    </tr>\n",
       "    <tr>\n",
       "      <th>4</th>\n",
       "      <td>5</td>\n",
       "      <td>8.0</td>\n",
       "    </tr>\n",
       "    <tr>\n",
       "      <th>...</th>\n",
       "      <td>...</td>\n",
       "      <td>...</td>\n",
       "    </tr>\n",
       "    <tr>\n",
       "      <th>75</th>\n",
       "      <td>76</td>\n",
       "      <td>0.0</td>\n",
       "    </tr>\n",
       "    <tr>\n",
       "      <th>76</th>\n",
       "      <td>77</td>\n",
       "      <td>0.0</td>\n",
       "    </tr>\n",
       "    <tr>\n",
       "      <th>72</th>\n",
       "      <td>73</td>\n",
       "      <td>0.0</td>\n",
       "    </tr>\n",
       "    <tr>\n",
       "      <th>74</th>\n",
       "      <td>75</td>\n",
       "      <td>0.0</td>\n",
       "    </tr>\n",
       "    <tr>\n",
       "      <th>73</th>\n",
       "      <td>74</td>\n",
       "      <td>0.0</td>\n",
       "    </tr>\n",
       "  </tbody>\n",
       "</table>\n",
       "<p>99 rows × 2 columns</p>\n",
       "</div>"
      ],
      "text/plain": [
       "     k  acuracia\n",
       "0    1      16.0\n",
       "1    2      10.0\n",
       "2    3       9.0\n",
       "3    4       8.0\n",
       "4    5       8.0\n",
       "..  ..       ...\n",
       "75  76       0.0\n",
       "76  77       0.0\n",
       "72  73       0.0\n",
       "74  75       0.0\n",
       "73  74       0.0\n",
       "\n",
       "[99 rows x 2 columns]"
      ]
     },
     "execution_count": 18,
     "metadata": {},
     "output_type": "execute_result"
    }
   ],
   "source": [
    "select_k = defaultdict(list)\n",
    "\n",
    "for i in range(1, 100):\n",
    "    score = cross_val_score(KNeighborsClassifier(n_neighbors=i), X, y, cv=kfold, scoring=\"accuracy\")\n",
    "    \n",
    "    select_k['k'].append(i)\n",
    "    select_k['acuracia'].append(round(np.mean(score), 2) * 100)\n",
    "\n",
    "df_select_k = pd.DataFrame(select_k)\n",
    "df_select_k.sort_values(by='acuracia', ascending=False)"
   ]
  },
  {
   "cell_type": "markdown",
   "metadata": {},
   "source": [
    "- XGBoost"
   ]
  },
  {
   "cell_type": "code",
   "execution_count": 19,
   "metadata": {},
   "outputs": [
    {
     "name": "stdout",
     "output_type": "stream",
     "text": [
      "[16:34:22] WARNING: ../src/learner.cc:1095: Starting in XGBoost 1.3.0, the default evaluation metric used with the objective 'multi:softprob' was changed from 'merror' to 'mlogloss'. Explicitly set eval_metric if you'd like to restore the old behavior.\n",
      "[16:34:49] WARNING: ../src/learner.cc:1095: Starting in XGBoost 1.3.0, the default evaluation metric used with the objective 'multi:softprob' was changed from 'merror' to 'mlogloss'. Explicitly set eval_metric if you'd like to restore the old behavior.\n",
      "[16:35:15] WARNING: ../src/learner.cc:1095: Starting in XGBoost 1.3.0, the default evaluation metric used with the objective 'multi:softprob' was changed from 'merror' to 'mlogloss'. Explicitly set eval_metric if you'd like to restore the old behavior.\n",
      "[16:35:38] WARNING: ../src/learner.cc:1095: Starting in XGBoost 1.3.0, the default evaluation metric used with the objective 'multi:softprob' was changed from 'merror' to 'mlogloss'. Explicitly set eval_metric if you'd like to restore the old behavior.\n",
      "[16:35:56] WARNING: ../src/learner.cc:1095: Starting in XGBoost 1.3.0, the default evaluation metric used with the objective 'multi:softprob' was changed from 'merror' to 'mlogloss'. Explicitly set eval_metric if you'd like to restore the old behavior.\n"
     ]
    }
   ],
   "source": [
    "score = cross_val_score(XGBClassifier(), X, y,  scoring='accuracy', cv=kfold)"
   ]
  },
  {
   "cell_type": "code",
   "execution_count": 20,
   "metadata": {},
   "outputs": [
    {
     "name": "stdout",
     "output_type": "stream",
     "text": [
      "score: 20.0%\n"
     ]
    }
   ],
   "source": [
    "print(f'score: {round(np.mean(score), 2) * 100}%')"
   ]
  },
  {
   "cell_type": "markdown",
   "metadata": {},
   "source": [
    "- LGBM"
   ]
  },
  {
   "cell_type": "code",
   "execution_count": 21,
   "metadata": {},
   "outputs": [
    {
     "name": "stdout",
     "output_type": "stream",
     "text": [
      "score: 19.0%\n"
     ]
    }
   ],
   "source": [
    "score = cross_val_score(LGBMClassifier(), X, y, scoring='accuracy', cv=kfold)\n",
    "print(f'score: {round(np.mean(score), 2) * 100}%')"
   ]
  },
  {
   "cell_type": "markdown",
   "metadata": {},
   "source": [
    "## Normalização de features"
   ]
  },
  {
   "cell_type": "markdown",
   "metadata": {},
   "source": [
    "### Teste 2"
   ]
  },
  {
   "cell_type": "code",
   "execution_count": 22,
   "metadata": {},
   "outputs": [],
   "source": [
    "scaler = MinMaxScaler(feature_range=(0, 1))\n",
    "\n",
    "X_norm = scaler.fit_transform(X)"
   ]
  },
  {
   "cell_type": "markdown",
   "metadata": {},
   "source": [
    "- Regressão Logitica"
   ]
  },
  {
   "cell_type": "code",
   "execution_count": 23,
   "metadata": {},
   "outputs": [
    {
     "name": "stdout",
     "output_type": "stream",
     "text": [
      "score: 17.0%\n"
     ]
    }
   ],
   "source": [
    "score = cross_val_score(LogisticRegression(), X_norm, y, cv=kfold, scoring=\"accuracy\")\n",
    "print(f'score: { round(np.mean(score), 2) * 100}%')"
   ]
  },
  {
   "cell_type": "markdown",
   "metadata": {},
   "source": [
    "- KNN"
   ]
  },
  {
   "cell_type": "code",
   "execution_count": 24,
   "metadata": {},
   "outputs": [
    {
     "data": {
      "text/html": [
       "<div>\n",
       "<style scoped>\n",
       "    .dataframe tbody tr th:only-of-type {\n",
       "        vertical-align: middle;\n",
       "    }\n",
       "\n",
       "    .dataframe tbody tr th {\n",
       "        vertical-align: top;\n",
       "    }\n",
       "\n",
       "    .dataframe thead th {\n",
       "        text-align: right;\n",
       "    }\n",
       "</style>\n",
       "<table border=\"1\" class=\"dataframe\">\n",
       "  <thead>\n",
       "    <tr style=\"text-align: right;\">\n",
       "      <th></th>\n",
       "      <th>k</th>\n",
       "      <th>acuracia</th>\n",
       "    </tr>\n",
       "  </thead>\n",
       "  <tbody>\n",
       "    <tr>\n",
       "      <th>0</th>\n",
       "      <td>1</td>\n",
       "      <td>13.0</td>\n",
       "    </tr>\n",
       "    <tr>\n",
       "      <th>6</th>\n",
       "      <td>7</td>\n",
       "      <td>9.0</td>\n",
       "    </tr>\n",
       "    <tr>\n",
       "      <th>2</th>\n",
       "      <td>3</td>\n",
       "      <td>9.0</td>\n",
       "    </tr>\n",
       "    <tr>\n",
       "      <th>3</th>\n",
       "      <td>4</td>\n",
       "      <td>9.0</td>\n",
       "    </tr>\n",
       "    <tr>\n",
       "      <th>7</th>\n",
       "      <td>8</td>\n",
       "      <td>8.0</td>\n",
       "    </tr>\n",
       "    <tr>\n",
       "      <th>...</th>\n",
       "      <td>...</td>\n",
       "      <td>...</td>\n",
       "    </tr>\n",
       "    <tr>\n",
       "      <th>68</th>\n",
       "      <td>69</td>\n",
       "      <td>0.0</td>\n",
       "    </tr>\n",
       "    <tr>\n",
       "      <th>69</th>\n",
       "      <td>70</td>\n",
       "      <td>0.0</td>\n",
       "    </tr>\n",
       "    <tr>\n",
       "      <th>70</th>\n",
       "      <td>71</td>\n",
       "      <td>0.0</td>\n",
       "    </tr>\n",
       "    <tr>\n",
       "      <th>71</th>\n",
       "      <td>72</td>\n",
       "      <td>0.0</td>\n",
       "    </tr>\n",
       "    <tr>\n",
       "      <th>98</th>\n",
       "      <td>99</td>\n",
       "      <td>0.0</td>\n",
       "    </tr>\n",
       "  </tbody>\n",
       "</table>\n",
       "<p>99 rows × 2 columns</p>\n",
       "</div>"
      ],
      "text/plain": [
       "     k  acuracia\n",
       "0    1      13.0\n",
       "6    7       9.0\n",
       "2    3       9.0\n",
       "3    4       9.0\n",
       "7    8       8.0\n",
       "..  ..       ...\n",
       "68  69       0.0\n",
       "69  70       0.0\n",
       "70  71       0.0\n",
       "71  72       0.0\n",
       "98  99       0.0\n",
       "\n",
       "[99 rows x 2 columns]"
      ]
     },
     "execution_count": 24,
     "metadata": {},
     "output_type": "execute_result"
    }
   ],
   "source": [
    "select_k = defaultdict(list)\n",
    "\n",
    "for i in range(1, 100):\n",
    "    score = cross_val_score(KNeighborsClassifier(n_neighbors=i), X_norm, y, cv=kfold, scoring=\"accuracy\")\n",
    "    \n",
    "    select_k['k'].append(i)\n",
    "    select_k['acuracia'].append(round(np.mean(score), 2) * 100)\n",
    "\n",
    "df_select_k = pd.DataFrame(select_k)\n",
    "df_select_k.sort_values(by='acuracia', ascending=False)"
   ]
  },
  {
   "cell_type": "markdown",
   "metadata": {},
   "source": [
    "- Arvore de Decisão"
   ]
  },
  {
   "cell_type": "code",
   "execution_count": 25,
   "metadata": {},
   "outputs": [
    {
     "name": "stdout",
     "output_type": "stream",
     "text": [
      "score: 9.0%\n"
     ]
    }
   ],
   "source": [
    "score = cross_val_score(DecisionTreeClassifier(random_state=42), X_norm, y, cv=kfold, scoring=\"accuracy\")\n",
    "print(f'score: { round(np.mean(score), 2) * 100}%')"
   ]
  },
  {
   "cell_type": "markdown",
   "metadata": {},
   "source": [
    "- LGBM"
   ]
  },
  {
   "cell_type": "code",
   "execution_count": 26,
   "metadata": {},
   "outputs": [
    {
     "name": "stdout",
     "output_type": "stream",
     "text": [
      "score: 19.0%\n"
     ]
    }
   ],
   "source": [
    "score = cross_val_score(LGBMClassifier(), X_norm, y, scoring='accuracy', cv=kfold)\n",
    "print(f'score: {round(np.mean(score), 2) * 100}%')"
   ]
  },
  {
   "cell_type": "markdown",
   "metadata": {},
   "source": [
    "- Random Forest"
   ]
  },
  {
   "cell_type": "code",
   "execution_count": 27,
   "metadata": {},
   "outputs": [
    {
     "name": "stdout",
     "output_type": "stream",
     "text": [
      "score: 16.0%\n"
     ]
    }
   ],
   "source": [
    "score = cross_val_score(RandomForestClassifier(), X_norm, y, cv=kfold, scoring=\"accuracy\")\n",
    "print(f'score: {round(np.mean(score), 2) * 100}%')"
   ]
  },
  {
   "cell_type": "markdown",
   "metadata": {},
   "source": [
    "# Tuning Hiperparamentros"
   ]
  },
  {
   "cell_type": "markdown",
   "metadata": {},
   "source": [
    "- Arvore de Decisão"
   ]
  },
  {
   "cell_type": "code",
   "execution_count": 58,
   "metadata": {},
   "outputs": [
    {
     "name": "stdout",
     "output_type": "stream",
     "text": [
      "Acuracy: 13.236574746008708\n",
      "\n",
      "DecisionTreeClassifier(max_depth=17, max_features='auto', min_samples_leaf=2,\n",
      "                       min_samples_split=3)\n",
      "\n",
      "OrderedDict([('criterion', 'gini'), ('max_depth', 17), ('max_features', 'auto'), ('min_samples_leaf', 2), ('min_samples_split', 3)])\n"
     ]
    }
   ],
   "source": [
    "parametros = {\n",
    "    \"criterion\": Categorical(['gini','entropy']),\n",
    "    \"max_depth\": Integer(2, 17),\n",
    "    \"max_features\": Categorical(['auto', 'sqrt', 'log2']),\n",
    "    \"min_samples_split\": Integer(2, 10),\n",
    "    \"min_samples_leaf\": Integer(1, 10)\n",
    "    \n",
    "}\n",
    "\n",
    "decision_tree = DecisionTreeClassifier()\n",
    "\n",
    "decision_tree_search = BayesSearchCV(\n",
    "    decision_tree,\n",
    "    parametros,\n",
    "    n_iter=32,\n",
    "    n_jobs=-1,\n",
    "    cv=5,\n",
    "    scoring='accuracy'\n",
    ")\n",
    "\n",
    "decision_tree_search.fit(X, y)\n",
    "\n",
    "print(f'Acuracy: { decision_tree_search.best_score_ * 100}\\n')\n",
    "print(decision_tree_search.best_estimator_)\n",
    "print(f'\\n{ decision_tree_search.best_params_ }')"
   ]
  },
  {
   "cell_type": "markdown",
   "metadata": {},
   "source": [
    "- Random Foreste"
   ]
  },
  {
   "cell_type": "code",
   "execution_count": 33,
   "metadata": {},
   "outputs": [
    {
     "data": {
      "text/plain": [
       "BayesSearchCV(cv=5, estimator=RandomForestClassifier(), n_iter=32, n_jobs=-1,\n",
       "              scoring='accuracy',\n",
       "              search_spaces={'bootstrap': Categorical(categories=(True, False), prior=None),\n",
       "                             'criterion': Categorical(categories=('gini', 'entropy'), prior=None),\n",
       "                             'max_depth': Integer(low=6, high=20, prior='uniform', transform='normalize'),\n",
       "                             'max_features': Categorical(categories=('auto', 'sqrt', 'log2'), prior=None),\n",
       "                             'min_samples_leaf': Integer(low=2, high=10, prior='uniform', transform='normalize'),\n",
       "                             'min_samples_split': Integer(low=2, high=10, prior='uniform', transform='normalize'),\n",
       "                             'n_estimators': Integer(low=100, high=500, prior='uniform', transform='normalize')})"
      ]
     },
     "execution_count": 33,
     "metadata": {},
     "output_type": "execute_result"
    }
   ],
   "source": [
    "parametros = {\n",
    "    \"criterion\": Categorical(['gini','entropy']),\n",
    "    \"max_depth\": Integer(6, 20),\n",
    "    \"min_samples_split\": Integer(2, 10),\n",
    "    \"min_samples_leaf\": Integer(2, 10),\n",
    "    \"max_features\": Categorical(['auto', 'sqrt','log2']), \n",
    "    \"bootstrap\": Categorical([True, False]),\n",
    "    \"n_estimators\": Integer(100, 500)\n",
    "}\n",
    "\n",
    "random_forest = RandomForestClassifier()\n",
    "\n",
    "forest_bayes_search = BayesSearchCV(\n",
    "    random_forest,\n",
    "    parametros,\n",
    "    n_iter=32,\n",
    "    n_jobs=-1,\n",
    "    cv=5,\n",
    "    scoring='accuracy'\n",
    ")\n",
    "\n",
    "forest_bayes_search.fit(X, y)"
   ]
  },
  {
   "cell_type": "code",
   "execution_count": 35,
   "metadata": {},
   "outputs": [
    {
     "name": "stdout",
     "output_type": "stream",
     "text": [
      "Acuracy: 24.985486211901303\n",
      "\n",
      "RandomForestClassifier(bootstrap=False, max_depth=20, min_samples_leaf=2)\n",
      "\n",
      "OrderedDict([('bootstrap', False), ('criterion', 'gini'), ('max_depth', 20), ('max_features', 'auto'), ('min_samples_leaf', 2), ('min_samples_split', 2), ('n_estimators', 100)])\n"
     ]
    }
   ],
   "source": [
    "print(f'Acuracy: { forest_bayes_search.best_score_ * 100}\\n')\n",
    "print(forest_bayes_search.best_estimator_)\n",
    "print(f'\\n{ forest_bayes_search.best_params_ }')"
   ]
  },
  {
   "cell_type": "markdown",
   "metadata": {},
   "source": [
    "- MLP"
   ]
  },
  {
   "cell_type": "code",
   "execution_count": null,
   "metadata": {},
   "outputs": [],
   "source": [
    "parametros = {\n",
    "    'activation' : Categorical(['identity','logistic','tanh','relu']),\n",
    "    'hidden_layer_sizes': Integer(20, 100)\n",
    "}\n",
    "\n",
    "\n",
    "mlp_bayes_search = BayesSearchCV(\n",
    "    MLPClassifier(),\n",
    "    parametros,\n",
    "    n_iter=32,\n",
    "    n_jobs=-1,\n",
    "    cv=5,\n",
    "    scoring='accuracy'\n",
    ")\n",
    "\n",
    "mlp_bayes_search.fit(X, y)"
   ]
  },
  {
   "cell_type": "code",
   "execution_count": 118,
   "metadata": {},
   "outputs": [
    {
     "name": "stdout",
     "output_type": "stream",
     "text": [
      "Acuracy: 17.801161103047896\n",
      "\n",
      "MLPClassifier(hidden_layer_sizes=100)\n",
      "\n",
      "OrderedDict([('activation', 'relu'), ('hidden_layer_sizes', 100)])\n"
     ]
    }
   ],
   "source": [
    "print(f'Acuracy: { mlp_bayes_search.best_score_ * 100}\\n')\n",
    "print(mlp_bayes_search.best_estimator_)\n",
    "print(f'\\n{ mlp_bayes_search.best_params_ }')"
   ]
  },
  {
   "cell_type": "markdown",
   "metadata": {},
   "source": [
    "# Recursive Feature Elimination - (RFE)"
   ]
  },
  {
   "cell_type": "markdown",
   "metadata": {},
   "source": [
    "### Teste 3"
   ]
  },
  {
   "cell_type": "code",
   "execution_count": null,
   "metadata": {},
   "outputs": [],
   "source": [
    "clf = DecisionTreeClassifier(max_depth=17,\n",
    "                             max_features='auto', \n",
    "                             min_samples_leaf=2,\n",
    "                             min_samples_split=3)\n",
    "                               \n",
    "estimators = RFECV(estimator=clf, scoring='accuracy')\n",
    "\n",
    "# fit rfecv to data\n",
    "rfecv_data = estimators.fit(X, y)\n",
    "\n",
    "# get the feature ranking\n",
    "ranking_features = rfecv_data.ranking_\n",
    "# print(ranking_features)\n",
    "\n",
    "support_features = rfecv_data.support_\n",
    "# print(support_features)"
   ]
  },
  {
   "cell_type": "code",
   "execution_count": 87,
   "metadata": {},
   "outputs": [],
   "source": [
    "features_selects = X.columns[support_features]"
   ]
  },
  {
   "cell_type": "markdown",
   "metadata": {},
   "source": [
    "- Arvore de decisão"
   ]
  },
  {
   "cell_type": "code",
   "execution_count": 100,
   "metadata": {},
   "outputs": [
    {
     "name": "stdout",
     "output_type": "stream",
     "text": [
      "score: 12.0%\n"
     ]
    }
   ],
   "source": [
    "clf = DecisionTreeClassifier(max_depth=17,\n",
    "                             max_features='auto', \n",
    "                             min_samples_leaf=2,\n",
    "                             min_samples_split=3)\n",
    "\n",
    "score = cross_val_score(clf, X[features_selects], y, cv=kfold, scoring=\"accuracy\")\n",
    "print(f'score: { round(np.mean(score), 2) * 100}%')"
   ]
  },
  {
   "cell_type": "markdown",
   "metadata": {},
   "source": [
    "- knn"
   ]
  },
  {
   "cell_type": "code",
   "execution_count": 117,
   "metadata": {},
   "outputs": [
    {
     "data": {
      "text/html": [
       "<div>\n",
       "<style scoped>\n",
       "    .dataframe tbody tr th:only-of-type {\n",
       "        vertical-align: middle;\n",
       "    }\n",
       "\n",
       "    .dataframe tbody tr th {\n",
       "        vertical-align: top;\n",
       "    }\n",
       "\n",
       "    .dataframe thead th {\n",
       "        text-align: right;\n",
       "    }\n",
       "</style>\n",
       "<table border=\"1\" class=\"dataframe\">\n",
       "  <thead>\n",
       "    <tr style=\"text-align: right;\">\n",
       "      <th></th>\n",
       "      <th>k</th>\n",
       "      <th>acuracia</th>\n",
       "    </tr>\n",
       "  </thead>\n",
       "  <tbody>\n",
       "    <tr>\n",
       "      <th>0</th>\n",
       "      <td>1</td>\n",
       "      <td>16.0</td>\n",
       "    </tr>\n",
       "    <tr>\n",
       "      <th>1</th>\n",
       "      <td>2</td>\n",
       "      <td>10.0</td>\n",
       "    </tr>\n",
       "    <tr>\n",
       "      <th>2</th>\n",
       "      <td>3</td>\n",
       "      <td>9.0</td>\n",
       "    </tr>\n",
       "    <tr>\n",
       "      <th>6</th>\n",
       "      <td>7</td>\n",
       "      <td>8.0</td>\n",
       "    </tr>\n",
       "    <tr>\n",
       "      <th>3</th>\n",
       "      <td>4</td>\n",
       "      <td>8.0</td>\n",
       "    </tr>\n",
       "    <tr>\n",
       "      <th>...</th>\n",
       "      <td>...</td>\n",
       "      <td>...</td>\n",
       "    </tr>\n",
       "    <tr>\n",
       "      <th>53</th>\n",
       "      <td>54</td>\n",
       "      <td>1.0</td>\n",
       "    </tr>\n",
       "    <tr>\n",
       "      <th>75</th>\n",
       "      <td>76</td>\n",
       "      <td>0.0</td>\n",
       "    </tr>\n",
       "    <tr>\n",
       "      <th>74</th>\n",
       "      <td>75</td>\n",
       "      <td>0.0</td>\n",
       "    </tr>\n",
       "    <tr>\n",
       "      <th>72</th>\n",
       "      <td>73</td>\n",
       "      <td>0.0</td>\n",
       "    </tr>\n",
       "    <tr>\n",
       "      <th>73</th>\n",
       "      <td>74</td>\n",
       "      <td>0.0</td>\n",
       "    </tr>\n",
       "  </tbody>\n",
       "</table>\n",
       "<p>99 rows × 2 columns</p>\n",
       "</div>"
      ],
      "text/plain": [
       "     k  acuracia\n",
       "0    1      16.0\n",
       "1    2      10.0\n",
       "2    3       9.0\n",
       "6    7       8.0\n",
       "3    4       8.0\n",
       "..  ..       ...\n",
       "53  54       1.0\n",
       "75  76       0.0\n",
       "74  75       0.0\n",
       "72  73       0.0\n",
       "73  74       0.0\n",
       "\n",
       "[99 rows x 2 columns]"
      ]
     },
     "execution_count": 117,
     "metadata": {},
     "output_type": "execute_result"
    }
   ],
   "source": [
    "select_k = defaultdict(list)\n",
    "\n",
    "for i in range(1, 100):\n",
    "    score = cross_val_score(KNeighborsClassifier(n_neighbors=i), X[features_selects], y, cv=kfold, scoring=\"accuracy\")\n",
    "    \n",
    "    select_k['k'].append(i)\n",
    "    select_k['acuracia'].append(round(np.mean(score), 2) * 100)\n",
    "\n",
    "df_select_k = pd.DataFrame(select_k)\n",
    "df_select_k.sort_values(by='acuracia', ascending=False)"
   ]
  },
  {
   "cell_type": "markdown",
   "metadata": {},
   "source": [
    "- LGBM"
   ]
  },
  {
   "cell_type": "code",
   "execution_count": 101,
   "metadata": {},
   "outputs": [
    {
     "name": "stdout",
     "output_type": "stream",
     "text": [
      "score: 17.0%\n"
     ]
    }
   ],
   "source": [
    "score = cross_val_score(LGBMClassifier(), X[features_selects], y, cv=kfold, scoring=\"accuracy\")\n",
    "print(f'score: { round(np.mean(score), 2) * 100}%')"
   ]
  },
  {
   "cell_type": "markdown",
   "metadata": {},
   "source": [
    "- Random Forest"
   ]
  },
  {
   "cell_type": "code",
   "execution_count": 102,
   "metadata": {},
   "outputs": [
    {
     "name": "stdout",
     "output_type": "stream",
     "text": [
      "score: 23.0%\n"
     ]
    }
   ],
   "source": [
    "clf = RandomForestClassifier(\n",
    "    bootstrap=False,\n",
    "    criterion='gini',\n",
    "    max_depth=20,\n",
    "    max_features='auto',\n",
    "    min_samples_split=2,\n",
    "    min_samples_leaf=2,\n",
    "    n_estimators=100\n",
    ")\n",
    "\n",
    "score = cross_val_score(clf, X[features_selects], y, cv=kfold, scoring=\"accuracy\")\n",
    "print(f'score: { round(np.mean(score), 2) * 100}%')"
   ]
  },
  {
   "cell_type": "markdown",
   "metadata": {},
   "source": [
    "- XGBOOST"
   ]
  },
  {
   "cell_type": "code",
   "execution_count": 103,
   "metadata": {},
   "outputs": [
    {
     "name": "stdout",
     "output_type": "stream",
     "text": [
      "[21:04:55] WARNING: ../src/learner.cc:1095: Starting in XGBoost 1.3.0, the default evaluation metric used with the objective 'multi:softprob' was changed from 'merror' to 'mlogloss'. Explicitly set eval_metric if you'd like to restore the old behavior.\n",
      "[21:05:04] WARNING: ../src/learner.cc:1095: Starting in XGBoost 1.3.0, the default evaluation metric used with the objective 'multi:softprob' was changed from 'merror' to 'mlogloss'. Explicitly set eval_metric if you'd like to restore the old behavior.\n",
      "[21:05:19] WARNING: ../src/learner.cc:1095: Starting in XGBoost 1.3.0, the default evaluation metric used with the objective 'multi:softprob' was changed from 'merror' to 'mlogloss'. Explicitly set eval_metric if you'd like to restore the old behavior.\n",
      "[21:05:39] WARNING: ../src/learner.cc:1095: Starting in XGBoost 1.3.0, the default evaluation metric used with the objective 'multi:softprob' was changed from 'merror' to 'mlogloss'. Explicitly set eval_metric if you'd like to restore the old behavior.\n",
      "[21:05:58] WARNING: ../src/learner.cc:1095: Starting in XGBoost 1.3.0, the default evaluation metric used with the objective 'multi:softprob' was changed from 'merror' to 'mlogloss'. Explicitly set eval_metric if you'd like to restore the old behavior.\n",
      "score: 19.0%\n"
     ]
    }
   ],
   "source": [
    "score = cross_val_score(XGBClassifier(), X[features_selects], y, cv=kfold, scoring=\"accuracy\")\n",
    "print(f'score: { round(np.mean(score), 2) * 100}%')"
   ]
  },
  {
   "cell_type": "markdown",
   "metadata": {},
   "source": [
    "- MLP"
   ]
  },
  {
   "cell_type": "code",
   "execution_count": 119,
   "metadata": {},
   "outputs": [
    {
     "name": "stdout",
     "output_type": "stream",
     "text": [
      "score: 15.0%\n"
     ]
    }
   ],
   "source": [
    "mlp = MLPClassifier(hidden_layer_sizes=100, activation='relu')\n",
    "\n",
    "score = cross_val_score(mlp, X[features_selects], y, cv=kfold, scoring=\"accuracy\")\n",
    "print(f'score: { round(np.mean(score), 2) * 100}%')"
   ]
  }
 ],
 "metadata": {
  "colab": {
   "collapsed_sections": [],
   "name": "birds_classefier.ipynb",
   "provenance": [],
   "toc_visible": true
  },
  "interpreter": {
   "hash": "916dbcbb3f70747c44a77c7bcd40155683ae19c65e1c03b4aa3499c5328201f1"
  },
  "kernelspec": {
   "display_name": "Python 3 (ipykernel)",
   "language": "python",
   "name": "python3"
  },
  "language_info": {
   "codemirror_mode": {
    "name": "ipython",
    "version": 3
   },
   "file_extension": ".py",
   "mimetype": "text/x-python",
   "name": "python",
   "nbconvert_exporter": "python",
   "pygments_lexer": "ipython3",
   "version": "3.8.10"
  }
 },
 "nbformat": 4,
 "nbformat_minor": 4
}
